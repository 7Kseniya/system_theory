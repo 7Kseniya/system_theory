{
  "cells": [
    {
      "cell_type": "markdown",
      "metadata": {
        "id": "ITf-CYc6MinW"
      },
      "source": [
        "[Реализация конечных автоматов на python](https://github.com/pytransitions/transitions)"
      ]
    },
    {
      "cell_type": "code",
      "execution_count": 3,
      "metadata": {
        "colab": {
          "base_uri": "https://localhost:8080/",
          "height": 139
        },
        "id": "QCOVcWJAMh73",
        "outputId": "391bafc8-6d21-45a1-b026-fafbf96aef07"
      },
      "outputs": [
        {
          "name": "stdout",
          "output_type": "stream",
          "text": [
            "Defaulting to user installation because normal site-packages is not writeable\n",
            "Requirement already satisfied: transitions in /Users/kseniaignateva/Library/Python/3.9/lib/python/site-packages (0.9.2)\n",
            "Requirement already satisfied: six in /Library/Developer/CommandLineTools/Library/Frameworks/Python3.framework/Versions/3.9/lib/python3.9/site-packages (from transitions) (1.15.0)\n"
          ]
        },
        {
          "data": {
            "text/plain": [
              "'plasma'"
            ]
          },
          "execution_count": 3,
          "metadata": {},
          "output_type": "execute_result"
        }
      ],
      "source": [
        "!pip install transitions\n",
        "import transitions\n",
        "\n",
        "from transitions import Machine, MachineError\n",
        "\n",
        "# На этот объект будем вешать состояния\n",
        "class Matter(object):\n",
        "    pass\n",
        "\n",
        "lump = Matter()\n",
        "\n",
        "# Полный список состояний\n",
        "states=['solid', 'liquid', 'gas', 'plasma']\n",
        "\n",
        "# Добавляем таблицу переходов — из какое в какое состояние мы можем попасть\n",
        "transitions = [\n",
        "    { 'trigger': 'melt', 'source': 'solid', 'dest': 'liquid' },\n",
        "    { 'trigger': 'evaporate', 'source': 'liquid', 'dest': 'gas' },\n",
        "    { 'trigger': 'sublimate', 'source': 'solid', 'dest': 'gas' },\n",
        "    { 'trigger': 'ionize', 'source': 'gas', 'dest': 'plasma' }\n",
        "]\n",
        "\n",
        "    # trigger – это некое действие, которое может привести к смене состояния объекта,\n",
        "    # source – исходное состояние объекта,\n",
        "    # dest – целевое состояние объекта.\n",
        "\n",
        "\n",
        "# Инициализация машины\n",
        "machine = Machine(lump, states=states, transitions=transitions, initial='liquid')\n",
        "\n",
        "# Проверяем начальное состояние\n",
        "lump.state\n",
        "\n",
        "# И пробуем изменить состояние триггерами перехода\n",
        "lump.evaporate()\n",
        "lump.state\n",
        "\n",
        "lump.trigger('ionize')\n",
        "lump.state"
      ]
    },
    {
      "cell_type": "code",
      "execution_count": 4,
      "metadata": {
        "colab": {
          "base_uri": "https://localhost:8080/"
        },
        "id": "zAVzhfSIuOA4",
        "outputId": "2c2280c6-87b4-4bab-c8cb-0de3d6cc5dc9"
      },
      "outputs": [
        {
          "name": "stdout",
          "output_type": "stream",
          "text": [
            "liquid\n",
            "gas\n",
            "plasma\n"
          ]
        }
      ],
      "source": [
        "machine = Machine(lump, states=states, transitions=transitions, initial='solid')\n",
        "try:\n",
        "    lump.melt()\n",
        "    print(lump.state)\n",
        "\n",
        "    lump.evaporate()\n",
        "    print(lump.state)\n",
        "\n",
        "    lump.ionize()\n",
        "    print(lump.state)\n",
        "\n",
        "except MachineError as error:\n",
        "    print(error)"
      ]
    }
  ],
  "metadata": {
    "colab": {
      "provenance": []
    },
    "kernelspec": {
      "display_name": "Python 3",
      "name": "python3"
    },
    "language_info": {
      "codemirror_mode": {
        "name": "ipython",
        "version": 3
      },
      "file_extension": ".py",
      "mimetype": "text/x-python",
      "name": "python",
      "nbconvert_exporter": "python",
      "pygments_lexer": "ipython3",
      "version": "3.9.6"
    }
  },
  "nbformat": 4,
  "nbformat_minor": 0
}
